{
 "cells": [
  {
   "cell_type": "code",
   "execution_count": 1,
   "metadata": {},
   "outputs": [],
   "source": [
    "import pandas as pd\n",
    "\n",
    "geo_df = pd.read_excel(f_name + '.xlsx')"
   ]
  },
  {
   "cell_type": "code",
   "execution_count": null,
   "metadata": {},
   "outputs": [],
   "source": [
    "def get_my(age, \n",
    "           strat=strat, \n",
    "           early=0.25, \n",
    "           mid=0.5, \n",
    "           late=0.75):\n",
    "    \n",
    "    age = age.strip().lower().split()\n",
    "    \n",
    "    for col in strat.columns[:5]:\n",
    "        print(col)\n",
    "        if age[0] in strat[col]:\n",
    "            print(col)\n",
    "    \n",
    "    \n",
    "    print(age[0])\n",
    "    my= 1\n",
    "    return my\n",
    "    \n",
    "    \n",
    "    \n",
    "print(get_my('cenozoic')  )  "
   ]
  }
 ],
 "metadata": {
  "kernelspec": {
   "display_name": "Python 3",
   "language": "python",
   "name": "python3"
  },
  "language_info": {
   "codemirror_mode": {
    "name": "ipython",
    "version": 3
   },
   "file_extension": ".py",
   "mimetype": "text/x-python",
   "name": "python",
   "nbconvert_exporter": "python",
   "pygments_lexer": "ipython3",
   "version": "3.6.7"
  }
 },
 "nbformat": 4,
 "nbformat_minor": 2
}
