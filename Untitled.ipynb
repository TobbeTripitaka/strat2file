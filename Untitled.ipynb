{
 "cells": [
  {
   "cell_type": "code",
   "execution_count": 1,
   "metadata": {},
   "outputs": [],
   "source": [
    "import lib.strat2file as strat\n",
    "\n",
    "import pandas as pd\n",
    "\n",
    "chart = pd.read_excel('ChronostratChart2018-08.xlsx')\n",
    "chart = chart.applymap(lambda s:s.strip().lower() if type(s) == str else s)"
   ]
  },
  {
   "cell_type": "code",
   "execution_count": 2,
   "metadata": {},
   "outputs": [
    {
     "data": {
      "text/plain": [
       "(485.4, 541.0)"
      ]
     },
     "execution_count": 2,
     "metadata": {},
     "output_type": "execute_result"
    }
   ],
   "source": [
    "strat.geo_to_year('cambrian', chart)"
   ]
  },
  {
   "cell_type": "code",
   "execution_count": 3,
   "metadata": {},
   "outputs": [
    {
     "name": "stdout",
     "output_type": "stream",
     "text": [
      "  Supereon          Eon       Era      Period     Epoch         Age GSSP   \\\n",
      "0      NaN          NaN       NaN         NaN       NaN         NaN   NaN   \n",
      "1      NaN  phanerozoic  cenozoic  quaternary  holocene  meghalayan     t   \n",
      "\n",
      "       Ma Approx  Uncertainty  \n",
      "0  0.0000    NaN          NaN  \n",
      "1  0.0042    NaN          NaN  \n"
     ]
    }
   ],
   "source": [
    "strat.year_to_geo(62, chart)"
   ]
  },
  {
   "cell_type": "code",
   "execution_count": null,
   "metadata": {},
   "outputs": [],
   "source": []
  },
  {
   "cell_type": "code",
   "execution_count": null,
   "metadata": {},
   "outputs": [],
   "source": []
  },
  {
   "cell_type": "code",
   "execution_count": null,
   "metadata": {},
   "outputs": [],
   "source": []
  }
 ],
 "metadata": {
  "kernelspec": {
   "display_name": "Python 3",
   "language": "python",
   "name": "python3"
  },
  "language_info": {
   "codemirror_mode": {
    "name": "ipython",
    "version": 3
   },
   "file_extension": ".py",
   "mimetype": "text/x-python",
   "name": "python",
   "nbconvert_exporter": "python",
   "pygments_lexer": "ipython3",
   "version": "3.6.7"
  }
 },
 "nbformat": 4,
 "nbformat_minor": 2
}
