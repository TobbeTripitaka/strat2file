{
 "cells": [
  {
   "cell_type": "code",
   "execution_count": 57,
   "metadata": {},
   "outputs": [],
   "source": [
    "import pandas as pd\n",
    "import numpy as np\n",
    "\n",
    "arrow = u'\\N{BLACK RIGHT-POINTING TRIANGLE}'\n",
    "\n",
    "\n",
    "#Read stratigraphic chart and make strat chart easily searchable\n",
    "chart = pd.read_excel('ChronostratChart2018-08.xlsx')\n",
    "chart = chart.applymap(lambda s:s.strip().lower() if type(s) == str else s)\n",
    "\n",
    "#Have a look?\n",
    "#chart"
   ]
  },
  {
   "cell_type": "code",
   "execution_count": 52,
   "metadata": {},
   "outputs": [],
   "source": [
    "def get_time(age, \n",
    "        chart=chart, \n",
    "        gauge = 0.5,\n",
    "        early=0.75, \n",
    "        mid=0.5, \n",
    "        late=0.25, \n",
    "        latest = 0, \n",
    "        earliest = 1,\n",
    "        late_labels = None,\n",
    "        early_labels = None,\n",
    "        mid_labels = None, \n",
    "        use_descriptive = True,\n",
    "        m = True, \n",
    "        age_col = 7, \n",
    "        uncertainty = False, \n",
    "        uncertainty_col = 9):\n",
    "    '''Function to convert name of startigraphic age to years in million years\n",
    "    age -- string with geological age\n",
    "    chart -- The International Chronostratigraphic Chart as pandas data array\n",
    "    gauge -- a scalafr to set time from 0 (min for period) to 1 (max for period)\n",
    "    mid, late, latest, early, earliest = predefined gauges\n",
    "    use_descriptive -- True if prefixes defined in labels should change returned time\n",
    "    m -- rerturne Ma, else years\n",
    "    age_col -- colomn on chart that contains age in Ma\n",
    "    uncertainty -- if uncertainty of period definitions should be included\n",
    "        False if not, 'min' for min age and 'max' for max age\n",
    "    '''\n",
    "    \n",
    "    in_phrase = age.strip().lower().split()\n",
    "    chart = np.array(chart)\n",
    "    find = np.zeros((chart.shape[0], len(in_phrase))).astype('bool')\n",
    "    \n",
    "    if late_labels==None:\n",
    "        late_labels = ['upper', 'later', 'late']\n",
    "    \n",
    "    if early_labels==None:\n",
    "        early_labels = ['lower', 'early', 'earlier']\n",
    "        \n",
    "    if mid_labels==None:\n",
    "        mid_labels = ['mid', 'middle']\n",
    "        \n",
    "    for i, in_p in enumerate(in_phrase):\n",
    "        find[:,i] = np.any(chart == in_p, axis=1)\n",
    "        \n",
    "    here = np.sum(find, axis=1)\n",
    "    max_here = np.max(here)\n",
    "    ii = np.where(here==max_here)[0]\n",
    "    \n",
    "    if max_here == 1 and len(in_phrase) == 2 and use_descriptive:\n",
    "        print('Non standard expression.')\n",
    "        if in_phrase[0] in late_labels:\n",
    "            gauge = late\n",
    "        elif in_phrase[0] in ['latest']:\n",
    "            gauge = latest\n",
    "        elif in_phrase[0] in early_labels:\n",
    "            gauge = early\n",
    "        elif in_phrase[0] in ['earliest']:\n",
    "            gauge = earliest\n",
    "        elif in_phrase[0] in mid_labels:\n",
    "            gauge = mid\n",
    "        else:\n",
    "            print('Unknown prefix.')\n",
    "    \n",
    "    if uncertainty==False:\n",
    "        e_top = e_bottom = 0\n",
    "    elif uncertainty=='max':\n",
    "        e_top = np.nan_to_num(- chart[ii-1, uncertainty_col][0])\n",
    "        e_bottom = np.nan_to_num(chart[ii, uncertainty_col][-1])\n",
    "    elif uncertainty=='min':\n",
    "        e_top = np.nan_to_num(chart[ii-1, uncertainty_col][0])\n",
    "        e_bottom = np.nan_to_num(- chart[ii, uncertainty_col][-1])\n",
    "        \n",
    "          \n",
    "    min_my = chart[ii-1, age_col][0]-e_top # ii-1 because start of next time is end of this\n",
    "    max_my = chart[ii, age_col][-1]+e_bottom\n",
    "    my = min_my + gauge*(max_my-min_my)\n",
    "    \n",
    "    # Option to return years instead of Ma\n",
    "    if not m:\n",
    "        my *= 1e6\n",
    "        \n",
    "    return my, min_my, max_my\n",
    "    "
   ]
  },
  {
   "cell_type": "code",
   "execution_count": 58,
   "metadata": {},
   "outputs": [
    {
     "name": "stdout",
     "output_type": "stream",
     "text": [
      "sandbian ▶ (455.7, 453.0, 458.4)\n",
      "phanerozoic ▶ (270.5, 0.0, 541.0)\n",
      "meghalayan ▶ (0.0021, 0.0, 0.0042)\n",
      "upper cretaceous ▶ (83.25, 66.0, 100.5)\n",
      "lower ordovician ▶ (477.7, 470.0, 485.4)\n"
     ]
    }
   ],
   "source": [
    "tests = ['sandbian', 'phanerozoic', 'meghalayan', 'upper cretaceous', 'lower ordovician'] \n",
    "    \n",
    "for test in tests: \n",
    "    print(test, arrow, get_time(test) )"
   ]
  },
  {
   "cell_type": "code",
   "execution_count": 64,
   "metadata": {},
   "outputs": [
    {
     "name": "stdout",
     "output_type": "stream",
     "text": [
      "sandbian ▶ (456.5, 453.7, 459.29999999999995) (454.9, 452.3, 457.5)\n",
      "phanerozoic ▶ (271.0, 0.0, 542.0) (270.0, 0.0, 540.0)\n",
      "meghalayan ▶ (0.0021, 0.0, 0.0042) (0.0021, 0.0, 0.0042)\n",
      "upper cretaceous ▶ (83.25, 66.0, 100.5) (83.25, 66.0, 100.5)\n",
      "lower ordovician ▶ (479.34999999999997, 471.4, 487.29999999999995) (476.05, 468.6, 483.5)\n"
     ]
    }
   ],
   "source": [
    "for test in tests: \n",
    "    print(test, arrow, get_time(test, uncertainty='max'), get_time(test, uncertainty='min')  )"
   ]
  },
  {
   "cell_type": "code",
   "execution_count": 63,
   "metadata": {},
   "outputs": [
    {
     "name": "stdout",
     "output_type": "stream",
     "text": [
      "(275.40099999999995, 251.902, 298.9)\n",
      "(3250.0, 2500.0, 4000.0)\n"
     ]
    }
   ],
   "source": [
    "#upper case\n",
    "print(get_time('PERMIAN'))\n",
    "#mix\n",
    "print(get_time('ARcheAN'))"
   ]
  },
  {
   "cell_type": "code",
   "execution_count": 74,
   "metadata": {},
   "outputs": [
    {
     "name": "stdout",
     "output_type": "stream",
     "text": [
      "Non standard expression.\n",
      "(66.0, 66.0, 145.0)\n",
      "Non standard expression.\n",
      "(85.75, 66.0, 145.0)\n",
      "Non standard expression.\n",
      "(125.25, 66.0, 145.0)\n",
      "Non standard expression.\n",
      "(145.0, 66.0, 145.0)\n",
      "(105.5, 66.0, 145.0)\n",
      "Non standard expression.\n",
      "(105.5, 66.0, 145.0)\n"
     ]
    }
   ],
   "source": [
    "print(get_time('latest Cretaceous'))\n",
    "print(get_time('late Cretaceous'))\n",
    "print(get_time('early Cretaceous'))\n",
    "print(get_time('earliest Cretaceous'))\n",
    "print(get_time('Cretaceous'))\n",
    "print(get_time('mid Cretaceous'))"
   ]
  },
  {
   "cell_type": "code",
   "execution_count": null,
   "metadata": {},
   "outputs": [],
   "source": []
  }
 ],
 "metadata": {
  "kernelspec": {
   "display_name": "Python 3",
   "language": "python",
   "name": "python3"
  },
  "language_info": {
   "codemirror_mode": {
    "name": "ipython",
    "version": 3
   },
   "file_extension": ".py",
   "mimetype": "text/x-python",
   "name": "python",
   "nbconvert_exporter": "python",
   "pygments_lexer": "ipython3",
   "version": "3.6.7"
  }
 },
 "nbformat": 4,
 "nbformat_minor": 2
}
