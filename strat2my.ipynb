{
 "cells": [
  {
   "cell_type": "code",
   "execution_count": 5,
   "metadata": {},
   "outputs": [
    {
     "name": "stdout",
     "output_type": "stream",
     "text": [
      "reading:  ./ChronostratChart2018-08.xlsx\n"
     ]
    }
   ],
   "source": [
    "import pandas as pd\n",
    "import pygeotime\n",
    "\n",
    "r_arrow = u'\\N{BLACK RIGHT-POINTING TRIANGLE}'\n",
    "\n",
    "S = pygeotime.Strat()"
   ]
  },
  {
   "cell_type": "markdown",
   "metadata": {},
   "source": [
    "Run a few tests:"
   ]
  },
  {
   "cell_type": "code",
   "execution_count": null,
   "metadata": {},
   "outputs": [],
   "source": []
  },
  {
   "cell_type": "code",
   "execution_count": 4,
   "metadata": {},
   "outputs": [
    {
     "name": "stdout",
     "output_type": "stream",
     "text": [
      "Sandbian ▶ 455.7\n",
      "Phanerozoic ▶ 270.5\n",
      "Meghalayan ▶ 0.0021\n",
      "upper Cretaceous ▶ 83.25\n",
      "Lower ordovician ▶ 477.7\n"
     ]
    }
   ],
   "source": [
    "tests = ['Sandbian', \n",
    "         'Phanerozoic', \n",
    "         'Meghalayan', \n",
    "         'upper Cretaceous', \n",
    "         'Lower ordovician'] \n",
    "    \n",
    "#tests = ['Lower ordovician']\n",
    "for test in tests: \n",
    "    print(test, r_arrow, S.geo_to_year(test, period = False) )"
   ]
  },
  {
   "cell_type": "code",
   "execution_count": null,
   "metadata": {},
   "outputs": [],
   "source": [
    "for test in tests: \n",
    "    print(test, r_arrow, get_time(test, uncertainty='max'), get_time(test, uncertainty='min')  )"
   ]
  },
  {
   "cell_type": "code",
   "execution_count": null,
   "metadata": {},
   "outputs": [],
   "source": [
    "#upper case\n",
    "print(get_time('danian'))\n",
    "#mix\n",
    "print(get_time('ARcheAN'))"
   ]
  },
  {
   "cell_type": "code",
   "execution_count": null,
   "metadata": {},
   "outputs": [],
   "source": [
    "print(get_time('latest Cretaceous'))\n",
    "print(get_time('late Cretaceous'))\n",
    "print(get_time('early Cretaceous'))\n",
    "print(get_time('earliest Cretaceous'))\n",
    "print(get_time('Cretaceous'))\n",
    "print(get_time('mid Cretaceous'))"
   ]
  },
  {
   "cell_type": "code",
   "execution_count": null,
   "metadata": {},
   "outputs": [],
   "source": []
  },
  {
   "cell_type": "code",
   "execution_count": null,
   "metadata": {},
   "outputs": [],
   "source": [
    "geo_df"
   ]
  },
  {
   "cell_type": "code",
   "execution_count": null,
   "metadata": {},
   "outputs": [],
   "source": []
  }
 ],
 "metadata": {
  "kernelspec": {
   "display_name": "Python 3",
   "language": "python",
   "name": "python3"
  },
  "language_info": {
   "codemirror_mode": {
    "name": "ipython",
    "version": 3
   },
   "file_extension": ".py",
   "mimetype": "text/x-python",
   "name": "python",
   "nbconvert_exporter": "python",
   "pygments_lexer": "ipython3",
   "version": "3.6.7"
  }
 },
 "nbformat": 4,
 "nbformat_minor": 2
}
