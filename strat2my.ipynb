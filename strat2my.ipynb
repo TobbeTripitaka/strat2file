{
 "cells": [
  {
   "cell_type": "code",
   "execution_count": 4,
   "metadata": {},
   "outputs": [],
   "source": [
    "import pandas as pd\n",
    "import lib.strat2file as strat\n",
    "\n",
    "r_arrow = u'\\N{BLACK RIGHT-POINTING TRIANGLE}'\n",
    "\n",
    "#Read stratigraphic chart and make strat chart easily searchable\n",
    "chart = pd.read_excel('ChronostratChart2018-08.xlsx')\n",
    "chart = chart.applymap(lambda s:s.strip().lower() if type(s) == str else s)\n",
    "\n",
    "#Have a look?\n",
    "#chart"
   ]
  },
  {
   "cell_type": "markdown",
   "metadata": {},
   "source": [
    "Run a few tests:"
   ]
  },
  {
   "cell_type": "code",
   "execution_count": 7,
   "metadata": {},
   "outputs": [
    {
     "name": "stdout",
     "output_type": "stream",
     "text": [
      "Sandbian ▶ (453.0, 458.4)\n",
      "Phanerozoic ▶ (0.0, 541.0)\n",
      "Meghalayan ▶ (0.0, 0.0042)\n",
      "upper Cretaceous ▶ (66.0, 100.5)\n",
      "Lower ordovician ▶ (470.0, 485.4)\n"
     ]
    }
   ],
   "source": [
    "tests = ['Sandbian', \n",
    "         'Phanerozoic', \n",
    "         'Meghalayan', \n",
    "         'upper Cretaceous', \n",
    "         'Lower ordovician'] \n",
    "    \n",
    "for test in tests: \n",
    "    print(test, r_arrow, strat.geo_to_year(test, chart) )"
   ]
  },
  {
   "cell_type": "code",
   "execution_count": null,
   "metadata": {},
   "outputs": [],
   "source": [
    "for test in tests: \n",
    "    print(test, arrow, get_time(test, uncertainty='max'), get_time(test, uncertainty='min')  )"
   ]
  },
  {
   "cell_type": "code",
   "execution_count": null,
   "metadata": {},
   "outputs": [],
   "source": [
    "#upper case\n",
    "print(get_time('danian'))\n",
    "#mix\n",
    "print(get_time('ARcheAN'))"
   ]
  },
  {
   "cell_type": "code",
   "execution_count": null,
   "metadata": {},
   "outputs": [],
   "source": [
    "print(get_time('latest Cretaceous'))\n",
    "print(get_time('late Cretaceous'))\n",
    "print(get_time('early Cretaceous'))\n",
    "print(get_time('earliest Cretaceous'))\n",
    "print(get_time('Cretaceous'))\n",
    "print(get_time('mid Cretaceous'))"
   ]
  },
  {
   "cell_type": "code",
   "execution_count": null,
   "metadata": {},
   "outputs": [],
   "source": [
    "chart\n",
    "\n"
   ]
  },
  {
   "cell_type": "code",
   "execution_count": null,
   "metadata": {},
   "outputs": [],
   "source": []
  }
 ],
 "metadata": {
  "kernelspec": {
   "display_name": "Python 3",
   "language": "python",
   "name": "python3"
  },
  "language_info": {
   "codemirror_mode": {
    "name": "ipython",
    "version": 3
   },
   "file_extension": ".py",
   "mimetype": "text/x-python",
   "name": "python",
   "nbconvert_exporter": "python",
   "pygments_lexer": "ipython3",
   "version": "3.6.7"
  }
 },
 "nbformat": 4,
 "nbformat_minor": 2
}
