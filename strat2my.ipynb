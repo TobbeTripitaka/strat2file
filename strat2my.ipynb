{
 "cells": [
  {
   "cell_type": "code",
   "execution_count": 1,
   "metadata": {},
   "outputs": [],
   "source": [
    "import pandas as pd\n",
    "import lib.strat2file as strat\n",
    "\n",
    "r_arrow = u'\\N{BLACK RIGHT-POINTING TRIANGLE}'\n",
    "\n",
    "#Read stratigraphic chart and make strat chart easily searchable\n",
    "f_name = 'ChronostratChart2018-08'\n",
    "geo_df = pd.read_excel(f_name + '.xlsx') # First sheet is names\n",
    "cymk_df = pd.read_excel(f_name + '.xlsx', sheet_name='CYMK')\n",
    "rgb_df = pd.read_excel(f_name + '.xlsx', sheet_name='RGB')"
   ]
  },
  {
   "cell_type": "markdown",
   "metadata": {},
   "source": [
    "Run a few tests:"
   ]
  },
  {
   "cell_type": "code",
   "execution_count": 2,
   "metadata": {},
   "outputs": [
    {
     "name": "stdout",
     "output_type": "stream",
     "text": [
      "Sandbian ▶ (4600.0, 4600.0)\n",
      "Phanerozoic ▶ (4600.0, 4600.0)\n",
      "Meghalayan ▶ (4600.0, 4600.0)\n",
      "upper Cretaceous ▶ (4600.0, 4600.0)\n",
      "Lower ordovician ▶ (4600.0, 4600.0)\n"
     ]
    }
   ],
   "source": [
    "tests = ['Sandbian', \n",
    "         'Phanerozoic', \n",
    "         'Meghalayan', \n",
    "         'upper Cretaceous', \n",
    "         'Lower ordovician'] \n",
    "    \n",
    "for test in tests: \n",
    "    print(test, r_arrow, strat.geo_to_year(test, geo_df) )"
   ]
  },
  {
   "cell_type": "code",
   "execution_count": null,
   "metadata": {},
   "outputs": [],
   "source": [
    "for test in tests: \n",
    "    print(test, r_arrow, get_time(test, uncertainty='max'), get_time(test, uncertainty='min')  )"
   ]
  },
  {
   "cell_type": "code",
   "execution_count": null,
   "metadata": {},
   "outputs": [],
   "source": [
    "#upper case\n",
    "print(get_time('danian'))\n",
    "#mix\n",
    "print(get_time('ARcheAN'))"
   ]
  },
  {
   "cell_type": "code",
   "execution_count": null,
   "metadata": {},
   "outputs": [],
   "source": [
    "print(get_time('latest Cretaceous'))\n",
    "print(get_time('late Cretaceous'))\n",
    "print(get_time('early Cretaceous'))\n",
    "print(get_time('earliest Cretaceous'))\n",
    "print(get_time('Cretaceous'))\n",
    "print(get_time('mid Cretaceous'))"
   ]
  },
  {
   "cell_type": "code",
   "execution_count": null,
   "metadata": {},
   "outputs": [],
   "source": []
  },
  {
   "cell_type": "code",
   "execution_count": null,
   "metadata": {},
   "outputs": [],
   "source": [
    "geo_df"
   ]
  },
  {
   "cell_type": "code",
   "execution_count": null,
   "metadata": {},
   "outputs": [],
   "source": []
  }
 ],
 "metadata": {
  "kernelspec": {
   "display_name": "Python 3",
   "language": "python",
   "name": "python3"
  },
  "language_info": {
   "codemirror_mode": {
    "name": "ipython",
    "version": 3
   },
   "file_extension": ".py",
   "mimetype": "text/x-python",
   "name": "python",
   "nbconvert_exporter": "python",
   "pygments_lexer": "ipython3",
   "version": "3.6.7"
  }
 },
 "nbformat": 4,
 "nbformat_minor": 2
}
