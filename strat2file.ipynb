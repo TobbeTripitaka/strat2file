{
 "cells": [
  {
   "cell_type": "markdown",
   "metadata": {},
   "source": [
    "## Generating parsed formats from Excel\n",
    "\n",
    "There is no built in pandas method to generate XML: "
   ]
  },
  {
   "cell_type": "code",
   "execution_count": 46,
   "metadata": {},
   "outputs": [],
   "source": [
    "import pandas as pd\n",
    "\n",
    "def to_xml(df, filename=None, mode='w'):\n",
    "    def row_to_xml(row):\n",
    "        '''Shape Pandas dataframe to xml format. \n",
    "        Thanks Andy Hayden: https://stackoverflow.com/a/18579083/4535020\n",
    "        '''\n",
    "        xml = ['<item>']\n",
    "        for i, col_name in enumerate(row.index):\n",
    "            xml.append('  <field name=\"{0}\">{1}</field>'.format(col_name, row.iloc[i]))\n",
    "        xml.append('</item>')\n",
    "        return '\\n'.join(xml)\n",
    "    res = '\\n'.join(df.apply(row_to_xml, axis=1))\n",
    "\n",
    "    if filename is None:\n",
    "        return res\n",
    "    with open(filename, mode) as f:\n",
    "        f.write(res)\n",
    "pd.DataFrame.to_xml = to_xml #Make an object"
   ]
  },
  {
   "cell_type": "markdown",
   "metadata": {},
   "source": [
    "Read Data from Excel file:"
   ]
  },
  {
   "cell_type": "code",
   "execution_count": 2,
   "metadata": {},
   "outputs": [],
   "source": [
    "f_name = 'ChronostratChart2018-08'\n",
    "geo_df = pd.read_excel(f_name + '.xlsx') # First sheet is names\n",
    "#cymk_df = pd.read_excel(f_name + '.xlsx', sheet_name='CYMK')\n",
    "#rgb_df = pd.read_excel(f_name + '.xlsx', sheet_name='RGB')"
   ]
  },
  {
   "cell_type": "markdown",
   "metadata": {},
   "source": [
    "Export to readable file formats, e.g. : "
   ]
  },
  {
   "cell_type": "code",
   "execution_count": 3,
   "metadata": {},
   "outputs": [],
   "source": [
    "geo_df.to_json(f_name + '.json', orient=\"records\", lines=True)\n",
    "geo_df.to_csv(f_name + '.csv')\n",
    "geo_df.to_csv(f_name + '.tsv', sep='\\t')\n",
    "geo_df.to_xml(f_name + '.xml')"
   ]
  }
 ],
 "metadata": {
  "kernelspec": {
   "display_name": "Python 3",
   "language": "python",
   "name": "python3"
  },
  "language_info": {
   "codemirror_mode": {
    "name": "ipython",
    "version": 3
   },
   "file_extension": ".py",
   "mimetype": "text/x-python",
   "name": "python",
   "nbconvert_exporter": "python",
   "pygments_lexer": "ipython3",
   "version": "3.6.7"
  }
 },
 "nbformat": 4,
 "nbformat_minor": 2
}
